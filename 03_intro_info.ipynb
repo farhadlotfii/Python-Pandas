{
 "cells": [
  {
   "cell_type": "code",
   "execution_count": 1,
   "metadata": {},
   "outputs": [],
   "source": [
    "import pandas as pd"
   ]
  },
  {
   "cell_type": "code",
   "execution_count": 8,
   "metadata": {},
   "outputs": [
    {
     "data": {
      "text/html": [
       "<div>\n",
       "<style scoped>\n",
       "    .dataframe tbody tr th:only-of-type {\n",
       "        vertical-align: middle;\n",
       "    }\n",
       "\n",
       "    .dataframe tbody tr th {\n",
       "        vertical-align: top;\n",
       "    }\n",
       "\n",
       "    .dataframe thead th {\n",
       "        text-align: right;\n",
       "    }\n",
       "</style>\n",
       "<table border=\"1\" class=\"dataframe\">\n",
       "  <thead>\n",
       "    <tr style=\"text-align: right;\">\n",
       "      <th></th>\n",
       "      <th>rating</th>\n",
       "      <th>genre</th>\n",
       "      <th>year</th>\n",
       "      <th>release_date</th>\n",
       "      <th>release_country</th>\n",
       "      <th>score</th>\n",
       "      <th>votes</th>\n",
       "      <th>director</th>\n",
       "      <th>writer</th>\n",
       "      <th>star</th>\n",
       "      <th>country</th>\n",
       "      <th>budget</th>\n",
       "      <th>gross</th>\n",
       "      <th>company</th>\n",
       "      <th>runtime</th>\n",
       "    </tr>\n",
       "    <tr>\n",
       "      <th>name</th>\n",
       "      <th></th>\n",
       "      <th></th>\n",
       "      <th></th>\n",
       "      <th></th>\n",
       "      <th></th>\n",
       "      <th></th>\n",
       "      <th></th>\n",
       "      <th></th>\n",
       "      <th></th>\n",
       "      <th></th>\n",
       "      <th></th>\n",
       "      <th></th>\n",
       "      <th></th>\n",
       "      <th></th>\n",
       "      <th></th>\n",
       "    </tr>\n",
       "  </thead>\n",
       "  <tbody>\n",
       "    <tr>\n",
       "      <th>The Shining</th>\n",
       "      <td>R</td>\n",
       "      <td>Drama</td>\n",
       "      <td>1980</td>\n",
       "      <td>June 13, 1980</td>\n",
       "      <td>United States</td>\n",
       "      <td>8.4</td>\n",
       "      <td>927000.0</td>\n",
       "      <td>Stanley Kubrick</td>\n",
       "      <td>Stephen King</td>\n",
       "      <td>Jack Nicholson</td>\n",
       "      <td>United Kingdom</td>\n",
       "      <td>19000000.0</td>\n",
       "      <td>46998772.0</td>\n",
       "      <td>Warner Bros.</td>\n",
       "      <td>146.0</td>\n",
       "    </tr>\n",
       "    <tr>\n",
       "      <th>The Blue Lagoon</th>\n",
       "      <td>R</td>\n",
       "      <td>Adventure</td>\n",
       "      <td>1980</td>\n",
       "      <td>July 2, 1980</td>\n",
       "      <td>United States</td>\n",
       "      <td>5.8</td>\n",
       "      <td>65000.0</td>\n",
       "      <td>Randal Kleiser</td>\n",
       "      <td>Henry De Vere Stacpoole</td>\n",
       "      <td>Brooke Shields</td>\n",
       "      <td>United States</td>\n",
       "      <td>4500000.0</td>\n",
       "      <td>58853106.0</td>\n",
       "      <td>Columbia Pictures</td>\n",
       "      <td>104.0</td>\n",
       "    </tr>\n",
       "    <tr>\n",
       "      <th>Star Wars: Episode V - The Empire Strikes Back</th>\n",
       "      <td>PG</td>\n",
       "      <td>Action</td>\n",
       "      <td>1980</td>\n",
       "      <td>June 20, 1980</td>\n",
       "      <td>United States</td>\n",
       "      <td>8.7</td>\n",
       "      <td>1200000.0</td>\n",
       "      <td>Irvin Kershner</td>\n",
       "      <td>Leigh Brackett</td>\n",
       "      <td>Mark Hamill</td>\n",
       "      <td>United States</td>\n",
       "      <td>18000000.0</td>\n",
       "      <td>538375067.0</td>\n",
       "      <td>Lucasfilm</td>\n",
       "      <td>124.0</td>\n",
       "    </tr>\n",
       "    <tr>\n",
       "      <th>Airplane!</th>\n",
       "      <td>PG</td>\n",
       "      <td>Comedy</td>\n",
       "      <td>1980</td>\n",
       "      <td>July 2, 1980</td>\n",
       "      <td>United States</td>\n",
       "      <td>7.7</td>\n",
       "      <td>221000.0</td>\n",
       "      <td>Jim Abrahams</td>\n",
       "      <td>Jim Abrahams</td>\n",
       "      <td>Robert Hays</td>\n",
       "      <td>United States</td>\n",
       "      <td>3500000.0</td>\n",
       "      <td>83453539.0</td>\n",
       "      <td>Paramount Pictures</td>\n",
       "      <td>88.0</td>\n",
       "    </tr>\n",
       "    <tr>\n",
       "      <th>Caddyshack</th>\n",
       "      <td>R</td>\n",
       "      <td>Comedy</td>\n",
       "      <td>1980</td>\n",
       "      <td>July 25, 1980</td>\n",
       "      <td>United States</td>\n",
       "      <td>7.3</td>\n",
       "      <td>108000.0</td>\n",
       "      <td>Harold Ramis</td>\n",
       "      <td>Brian Doyle-Murray</td>\n",
       "      <td>Chevy Chase</td>\n",
       "      <td>United States</td>\n",
       "      <td>6000000.0</td>\n",
       "      <td>39846344.0</td>\n",
       "      <td>Orion Pictures</td>\n",
       "      <td>98.0</td>\n",
       "    </tr>\n",
       "  </tbody>\n",
       "</table>\n",
       "</div>"
      ],
      "text/plain": [
       "                                               rating      genre  year  \\\n",
       "name                                                                     \n",
       "The Shining                                         R      Drama  1980   \n",
       "The Blue Lagoon                                     R  Adventure  1980   \n",
       "Star Wars: Episode V - The Empire Strikes Back     PG     Action  1980   \n",
       "Airplane!                                          PG     Comedy  1980   \n",
       "Caddyshack                                          R     Comedy  1980   \n",
       "\n",
       "                                                 release_date release_country  \\\n",
       "name                                                                            \n",
       "The Shining                                     June 13, 1980   United States   \n",
       "The Blue Lagoon                                  July 2, 1980   United States   \n",
       "Star Wars: Episode V - The Empire Strikes Back  June 20, 1980   United States   \n",
       "Airplane!                                        July 2, 1980   United States   \n",
       "Caddyshack                                      July 25, 1980   United States   \n",
       "\n",
       "                                                score      votes  \\\n",
       "name                                                               \n",
       "The Shining                                       8.4   927000.0   \n",
       "The Blue Lagoon                                   5.8    65000.0   \n",
       "Star Wars: Episode V - The Empire Strikes Back    8.7  1200000.0   \n",
       "Airplane!                                         7.7   221000.0   \n",
       "Caddyshack                                        7.3   108000.0   \n",
       "\n",
       "                                                       director  \\\n",
       "name                                                              \n",
       "The Shining                                     Stanley Kubrick   \n",
       "The Blue Lagoon                                  Randal Kleiser   \n",
       "Star Wars: Episode V - The Empire Strikes Back   Irvin Kershner   \n",
       "Airplane!                                          Jim Abrahams   \n",
       "Caddyshack                                         Harold Ramis   \n",
       "\n",
       "                                                                 writer  \\\n",
       "name                                                                      \n",
       "The Shining                                                Stephen King   \n",
       "The Blue Lagoon                                 Henry De Vere Stacpoole   \n",
       "Star Wars: Episode V - The Empire Strikes Back           Leigh Brackett   \n",
       "Airplane!                                                  Jim Abrahams   \n",
       "Caddyshack                                           Brian Doyle-Murray   \n",
       "\n",
       "                                                          star  \\\n",
       "name                                                             \n",
       "The Shining                                     Jack Nicholson   \n",
       "The Blue Lagoon                                 Brooke Shields   \n",
       "Star Wars: Episode V - The Empire Strikes Back     Mark Hamill   \n",
       "Airplane!                                          Robert Hays   \n",
       "Caddyshack                                         Chevy Chase   \n",
       "\n",
       "                                                       country      budget  \\\n",
       "name                                                                         \n",
       "The Shining                                     United Kingdom  19000000.0   \n",
       "The Blue Lagoon                                  United States   4500000.0   \n",
       "Star Wars: Episode V - The Empire Strikes Back   United States  18000000.0   \n",
       "Airplane!                                        United States   3500000.0   \n",
       "Caddyshack                                       United States   6000000.0   \n",
       "\n",
       "                                                      gross  \\\n",
       "name                                                          \n",
       "The Shining                                      46998772.0   \n",
       "The Blue Lagoon                                  58853106.0   \n",
       "Star Wars: Episode V - The Empire Strikes Back  538375067.0   \n",
       "Airplane!                                        83453539.0   \n",
       "Caddyshack                                       39846344.0   \n",
       "\n",
       "                                                           company  runtime  \n",
       "name                                                                         \n",
       "The Shining                                           Warner Bros.    146.0  \n",
       "The Blue Lagoon                                  Columbia Pictures    104.0  \n",
       "Star Wars: Episode V - The Empire Strikes Back           Lucasfilm    124.0  \n",
       "Airplane!                                       Paramount Pictures     88.0  \n",
       "Caddyshack                                          Orion Pictures     98.0  "
      ]
     },
     "execution_count": 8,
     "metadata": {},
     "output_type": "execute_result"
    }
   ],
   "source": [
    "df = pd.read_csv(r'..\\S05-S08\\Data\\movies.csv',index_col='name')\n",
    "df.head()"
   ]
  },
  {
   "cell_type": "code",
   "execution_count": 9,
   "metadata": {},
   "outputs": [
    {
     "data": {
      "text/plain": [
       "name\n",
       "The Shining                                       8.4\n",
       "The Blue Lagoon                                   5.8\n",
       "Star Wars: Episode V - The Empire Strikes Back    8.7\n",
       "Airplane!                                         7.7\n",
       "Caddyshack                                        7.3\n",
       "                                                 ... \n",
       "More to Life                                      3.1\n",
       "Dream Round                                       4.7\n",
       "Saving Mbango                                     5.7\n",
       "It's Just Us                                      NaN\n",
       "Tee em el                                         5.7\n",
       "Name: score, Length: 7666, dtype: float64"
      ]
     },
     "execution_count": 9,
     "metadata": {},
     "output_type": "execute_result"
    }
   ],
   "source": [
    "df['score']"
   ]
  },
  {
   "cell_type": "code",
   "execution_count": 10,
   "metadata": {},
   "outputs": [
    {
     "data": {
      "text/plain": [
       "7663"
      ]
     },
     "execution_count": 10,
     "metadata": {},
     "output_type": "execute_result"
    }
   ],
   "source": [
    "df['score'].count()"
   ]
  },
  {
   "cell_type": "code",
   "execution_count": 13,
   "metadata": {},
   "outputs": [
    {
     "data": {
      "text/plain": [
       "6.6    359\n",
       "6.4    351\n",
       "6.2    346\n",
       "6.7    332\n",
       "6.5    331\n",
       "      ... \n",
       "2.8      2\n",
       "9.3      1\n",
       "2.6      1\n",
       "2.3      1\n",
       "9.0      1\n",
       "Name: score, Length: 72, dtype: int64"
      ]
     },
     "execution_count": 13,
     "metadata": {},
     "output_type": "execute_result"
    }
   ],
   "source": [
    "df['score'].value_counts()"
   ]
  },
  {
   "cell_type": "code",
   "execution_count": 14,
   "metadata": {},
   "outputs": [
    {
     "data": {
      "text/plain": [
       "count    7663.000000\n",
       "mean        6.390591\n",
       "std         0.968903\n",
       "min         1.900000\n",
       "25%         5.800000\n",
       "50%         6.500000\n",
       "75%         7.100000\n",
       "max         9.300000\n",
       "Name: score, dtype: float64"
      ]
     },
     "execution_count": 14,
     "metadata": {},
     "output_type": "execute_result"
    }
   ],
   "source": [
    "df['score'].describe()"
   ]
  },
  {
   "cell_type": "code",
   "execution_count": null,
   "metadata": {},
   "outputs": [],
   "source": []
  }
 ],
 "metadata": {
  "kernelspec": {
   "display_name": "Python 3.8.5 ('base')",
   "language": "python",
   "name": "python3"
  },
  "language_info": {
   "codemirror_mode": {
    "name": "ipython",
    "version": 3
   },
   "file_extension": ".py",
   "mimetype": "text/x-python",
   "name": "python",
   "nbconvert_exporter": "python",
   "pygments_lexer": "ipython3",
   "version": "3.8.5"
  },
  "orig_nbformat": 4,
  "vscode": {
   "interpreter": {
    "hash": "f4255f50b02773c0af0ebbfade993ade5cc03e54a7772ee7915f818a4d590be0"
   }
  }
 },
 "nbformat": 4,
 "nbformat_minor": 2
}

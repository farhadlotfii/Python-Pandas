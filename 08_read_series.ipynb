{
 "cells": [
  {
   "cell_type": "code",
   "execution_count": 1,
   "metadata": {},
   "outputs": [],
   "source": [
    "import pandas as pd"
   ]
  },
  {
   "cell_type": "code",
   "execution_count": 3,
   "metadata": {},
   "outputs": [
    {
     "data": {
      "text/html": [
       "<div>\n",
       "<style scoped>\n",
       "    .dataframe tbody tr th:only-of-type {\n",
       "        vertical-align: middle;\n",
       "    }\n",
       "\n",
       "    .dataframe tbody tr th {\n",
       "        vertical-align: top;\n",
       "    }\n",
       "\n",
       "    .dataframe thead th {\n",
       "        text-align: right;\n",
       "    }\n",
       "</style>\n",
       "<table border=\"1\" class=\"dataframe\">\n",
       "  <thead>\n",
       "    <tr style=\"text-align: right;\">\n",
       "      <th></th>\n",
       "      <th>Open</th>\n",
       "      <th>High</th>\n",
       "      <th>Low</th>\n",
       "      <th>Close</th>\n",
       "      <th>Adj Close</th>\n",
       "      <th>Volume</th>\n",
       "    </tr>\n",
       "    <tr>\n",
       "      <th>Date</th>\n",
       "      <th></th>\n",
       "      <th></th>\n",
       "      <th></th>\n",
       "      <th></th>\n",
       "      <th></th>\n",
       "      <th></th>\n",
       "    </tr>\n",
       "  </thead>\n",
       "  <tbody>\n",
       "    <tr>\n",
       "      <th>2021-04-30</th>\n",
       "      <td>53568.664063</td>\n",
       "      <td>57900.718750</td>\n",
       "      <td>53129.601563</td>\n",
       "      <td>57750.175781</td>\n",
       "      <td>57750.175781</td>\n",
       "      <td>52395931985</td>\n",
       "    </tr>\n",
       "    <tr>\n",
       "      <th>2021-05-01</th>\n",
       "      <td>57714.664063</td>\n",
       "      <td>58448.339844</td>\n",
       "      <td>57052.273438</td>\n",
       "      <td>57828.050781</td>\n",
       "      <td>57828.050781</td>\n",
       "      <td>42836427360</td>\n",
       "    </tr>\n",
       "    <tr>\n",
       "      <th>2021-05-02</th>\n",
       "      <td>57825.863281</td>\n",
       "      <td>57902.593750</td>\n",
       "      <td>56141.906250</td>\n",
       "      <td>56631.078125</td>\n",
       "      <td>56631.078125</td>\n",
       "      <td>38177405335</td>\n",
       "    </tr>\n",
       "    <tr>\n",
       "      <th>2021-05-03</th>\n",
       "      <td>56620.273438</td>\n",
       "      <td>58973.308594</td>\n",
       "      <td>56590.871094</td>\n",
       "      <td>57200.292969</td>\n",
       "      <td>57200.292969</td>\n",
       "      <td>51713139031</td>\n",
       "    </tr>\n",
       "    <tr>\n",
       "      <th>2021-05-04</th>\n",
       "      <td>57214.179688</td>\n",
       "      <td>57214.179688</td>\n",
       "      <td>53191.425781</td>\n",
       "      <td>53333.539063</td>\n",
       "      <td>53333.539063</td>\n",
       "      <td>68564706967</td>\n",
       "    </tr>\n",
       "    <tr>\n",
       "      <th>...</th>\n",
       "      <td>...</td>\n",
       "      <td>...</td>\n",
       "      <td>...</td>\n",
       "      <td>...</td>\n",
       "      <td>...</td>\n",
       "      <td>...</td>\n",
       "    </tr>\n",
       "    <tr>\n",
       "      <th>2022-04-26</th>\n",
       "      <td>40448.421875</td>\n",
       "      <td>40713.890625</td>\n",
       "      <td>37884.984375</td>\n",
       "      <td>38117.460938</td>\n",
       "      <td>38117.460938</td>\n",
       "      <td>34569088416</td>\n",
       "    </tr>\n",
       "    <tr>\n",
       "      <th>2022-04-27</th>\n",
       "      <td>38120.300781</td>\n",
       "      <td>39397.917969</td>\n",
       "      <td>37997.312500</td>\n",
       "      <td>39241.121094</td>\n",
       "      <td>39241.121094</td>\n",
       "      <td>30981015184</td>\n",
       "    </tr>\n",
       "    <tr>\n",
       "      <th>2022-04-28</th>\n",
       "      <td>39241.429688</td>\n",
       "      <td>40269.464844</td>\n",
       "      <td>38941.421875</td>\n",
       "      <td>39773.828125</td>\n",
       "      <td>39773.828125</td>\n",
       "      <td>33903704907</td>\n",
       "    </tr>\n",
       "    <tr>\n",
       "      <th>2022-04-29</th>\n",
       "      <td>39768.617188</td>\n",
       "      <td>39887.269531</td>\n",
       "      <td>38235.535156</td>\n",
       "      <td>38609.824219</td>\n",
       "      <td>38609.824219</td>\n",
       "      <td>30882994649</td>\n",
       "    </tr>\n",
       "    <tr>\n",
       "      <th>2022-04-30</th>\n",
       "      <td>38597.628906</td>\n",
       "      <td>38760.183594</td>\n",
       "      <td>38252.488281</td>\n",
       "      <td>38281.816406</td>\n",
       "      <td>38281.816406</td>\n",
       "      <td>22406969344</td>\n",
       "    </tr>\n",
       "  </tbody>\n",
       "</table>\n",
       "<p>366 rows × 6 columns</p>\n",
       "</div>"
      ],
      "text/plain": [
       "                    Open          High           Low         Close  \\\n",
       "Date                                                                 \n",
       "2021-04-30  53568.664063  57900.718750  53129.601563  57750.175781   \n",
       "2021-05-01  57714.664063  58448.339844  57052.273438  57828.050781   \n",
       "2021-05-02  57825.863281  57902.593750  56141.906250  56631.078125   \n",
       "2021-05-03  56620.273438  58973.308594  56590.871094  57200.292969   \n",
       "2021-05-04  57214.179688  57214.179688  53191.425781  53333.539063   \n",
       "...                  ...           ...           ...           ...   \n",
       "2022-04-26  40448.421875  40713.890625  37884.984375  38117.460938   \n",
       "2022-04-27  38120.300781  39397.917969  37997.312500  39241.121094   \n",
       "2022-04-28  39241.429688  40269.464844  38941.421875  39773.828125   \n",
       "2022-04-29  39768.617188  39887.269531  38235.535156  38609.824219   \n",
       "2022-04-30  38597.628906  38760.183594  38252.488281  38281.816406   \n",
       "\n",
       "               Adj Close       Volume  \n",
       "Date                                   \n",
       "2021-04-30  57750.175781  52395931985  \n",
       "2021-05-01  57828.050781  42836427360  \n",
       "2021-05-02  56631.078125  38177405335  \n",
       "2021-05-03  57200.292969  51713139031  \n",
       "2021-05-04  53333.539063  68564706967  \n",
       "...                  ...          ...  \n",
       "2022-04-26  38117.460938  34569088416  \n",
       "2022-04-27  39241.121094  30981015184  \n",
       "2022-04-28  39773.828125  33903704907  \n",
       "2022-04-29  38609.824219  30882994649  \n",
       "2022-04-30  38281.816406  22406969344  \n",
       "\n",
       "[366 rows x 6 columns]"
      ]
     },
     "execution_count": 3,
     "metadata": {},
     "output_type": "execute_result"
    }
   ],
   "source": [
    "df = pd.read_csv(r'..\\S05-S08\\Data\\btc-usd.csv', index_col='Date' ,parse_dates=['Date'] )\n",
    "df"
   ]
  },
  {
   "cell_type": "code",
   "execution_count": 4,
   "metadata": {},
   "outputs": [
    {
     "data": {
      "text/plain": [
       "DatetimeIndex(['2021-04-30', '2021-05-01', '2021-05-02', '2021-05-03',\n",
       "               '2021-05-04', '2021-05-05', '2021-05-06', '2021-05-07',\n",
       "               '2021-05-08', '2021-05-09',\n",
       "               ...\n",
       "               '2022-04-21', '2022-04-22', '2022-04-23', '2022-04-24',\n",
       "               '2022-04-25', '2022-04-26', '2022-04-27', '2022-04-28',\n",
       "               '2022-04-29', '2022-04-30'],\n",
       "              dtype='datetime64[ns]', name='Date', length=366, freq=None)"
      ]
     },
     "execution_count": 4,
     "metadata": {},
     "output_type": "execute_result"
    }
   ],
   "source": [
    "df.index"
   ]
  },
  {
   "cell_type": "code",
   "execution_count": 6,
   "metadata": {},
   "outputs": [
    {
     "data": {
      "text/plain": [
       "Date\n",
       "2021-04-30    57750.175781\n",
       "2021-05-01    57828.050781\n",
       "2021-05-02    56631.078125\n",
       "2021-05-03    57200.292969\n",
       "2021-05-04    53333.539063\n",
       "                  ...     \n",
       "2022-04-26    38117.460938\n",
       "2022-04-27    39241.121094\n",
       "2022-04-28    39773.828125\n",
       "2022-04-29    38609.824219\n",
       "2022-04-30    38281.816406\n",
       "Name: Close, Length: 366, dtype: float64"
      ]
     },
     "execution_count": 6,
     "metadata": {},
     "output_type": "execute_result"
    }
   ],
   "source": [
    "s1 = df['Close']\n",
    "s1"
   ]
  },
  {
   "cell_type": "code",
   "execution_count": 10,
   "metadata": {},
   "outputs": [
    {
     "name": "stderr",
     "output_type": "stream",
     "text": [
      "<ipython-input-10-5d615db35f08>:1: FutureWarning: The squeeze argument has been deprecated and will be removed in a future version. Append .squeeze(\"columns\") to the call to squeeze.\n",
      "\n",
      "\n",
      "  s2 =  pd.read_csv(\n"
     ]
    },
    {
     "data": {
      "text/plain": [
       "Date\n",
       "2021-04-30    57750.175781\n",
       "2021-05-01    57828.050781\n",
       "2021-05-02    56631.078125\n",
       "2021-05-03    57200.292969\n",
       "2021-05-04    53333.539063\n",
       "                  ...     \n",
       "2022-04-26    38117.460938\n",
       "2022-04-27    39241.121094\n",
       "2022-04-28    39773.828125\n",
       "2022-04-29    38609.824219\n",
       "2022-04-30    38281.816406\n",
       "Name: Close, Length: 366, dtype: float64"
      ]
     },
     "execution_count": 10,
     "metadata": {},
     "output_type": "execute_result"
    }
   ],
   "source": [
    "s2 =  pd.read_csv(\n",
    "    r'..\\S05-S08\\Data\\btc-usd.csv', \n",
    "    index_col='Date' ,\n",
    "    parse_dates=['Date'],\n",
    "    usecols=['Date','Close'] ,\n",
    "    squeeze=True\n",
    "    )\n",
    "s2"
   ]
  },
  {
   "cell_type": "code",
   "execution_count": 11,
   "metadata": {},
   "outputs": [
    {
     "name": "stderr",
     "output_type": "stream",
     "text": [
      "<ipython-input-11-f92c17cb4b29>:1: FutureWarning: The squeeze argument has been deprecated and will be removed in a future version. Append .squeeze(\"columns\") to the call to squeeze.\n",
      "\n",
      "\n",
      "  s1 = pd.read_csv(\n"
     ]
    },
    {
     "data": {
      "text/plain": [
       "First Name\n",
       "Douglas         NaN\n",
       "Thomas      61933.0\n",
       "Maria      130590.0\n",
       "Jerry      138705.0\n",
       "Larry      101004.0\n",
       "             ...   \n",
       "Phillip     42392.0\n",
       "Russell     96914.0\n",
       "Larry       60500.0\n",
       "Albert     129949.0\n",
       "NaN             NaN\n",
       "Name: Salary, Length: 1001, dtype: float64"
      ]
     },
     "execution_count": 11,
     "metadata": {},
     "output_type": "execute_result"
    }
   ],
   "source": [
    "s1 = pd.read_csv(\n",
    "    r'../S05-S08/Data/employees.csv',\n",
    "    index_col='First Name',\n",
    "    usecols=['First Name' , 'Salary'],\n",
    "    squeeze=True\n",
    ")\n",
    "s1"
   ]
  },
  {
   "cell_type": "code",
   "execution_count": 13,
   "metadata": {},
   "outputs": [
    {
     "data": {
      "text/plain": [
       "First Name\n",
       "Katherine    149908.0\n",
       "Rose         149903.0\n",
       "Cynthia      149684.0\n",
       "NaN          149654.0\n",
       "Kathy        149563.0\n",
       "               ...   \n",
       "Steven        35095.0\n",
       "Kevin         35061.0\n",
       "Michael       35013.0\n",
       "Douglas           NaN\n",
       "NaN               NaN\n",
       "Name: Salary, Length: 1001, dtype: float64"
      ]
     },
     "execution_count": 13,
     "metadata": {},
     "output_type": "execute_result"
    }
   ],
   "source": [
    "s1.sort_values(ascending=False)"
   ]
  },
  {
   "cell_type": "code",
   "execution_count": 17,
   "metadata": {},
   "outputs": [
    {
     "data": {
      "text/plain": [
       "First Name\n",
       "Douglas           NaN\n",
       "NaN               NaN\n",
       "Katherine    149908.0\n",
       "Rose         149903.0\n",
       "Cynthia      149684.0\n",
       "               ...   \n",
       "Cynthia       35381.0\n",
       "Matthew       35203.0\n",
       "Steven        35095.0\n",
       "Kevin         35061.0\n",
       "Michael       35013.0\n",
       "Name: Salary, Length: 1001, dtype: float64"
      ]
     },
     "execution_count": 17,
     "metadata": {},
     "output_type": "execute_result"
    }
   ],
   "source": [
    "s1.sort_values(ascending=False,na_position='first')"
   ]
  },
  {
   "cell_type": "code",
   "execution_count": 14,
   "metadata": {},
   "outputs": [
    {
     "data": {
      "text/plain": [
       "999"
      ]
     },
     "execution_count": 14,
     "metadata": {},
     "output_type": "execute_result"
    }
   ],
   "source": [
    "s1.count()"
   ]
  },
  {
   "cell_type": "code",
   "execution_count": 16,
   "metadata": {},
   "outputs": [
    {
     "data": {
      "text/plain": [
       "count       999.000000\n",
       "mean      90655.528529\n",
       "std       32939.511615\n",
       "min       35013.000000\n",
       "25%       62560.000000\n",
       "50%       90427.000000\n",
       "75%      118744.500000\n",
       "max      149908.000000\n",
       "Name: Salary, dtype: float64"
      ]
     },
     "execution_count": 16,
     "metadata": {},
     "output_type": "execute_result"
    }
   ],
   "source": [
    "s1.describe()"
   ]
  },
  {
   "cell_type": "code",
   "execution_count": 18,
   "metadata": {},
   "outputs": [
    {
     "data": {
      "text/plain": [
       "First Name\n",
       "Thomas      61933.0\n",
       "Maria      130590.0\n",
       "Jerry      138705.0\n",
       "Larry      101004.0\n",
       "Dennis     115163.0\n",
       "             ...   \n",
       "Henry      132483.0\n",
       "Phillip     42392.0\n",
       "Russell     96914.0\n",
       "Larry       60500.0\n",
       "Albert     129949.0\n",
       "Name: Salary, Length: 999, dtype: float64"
      ]
     },
     "execution_count": 18,
     "metadata": {},
     "output_type": "execute_result"
    }
   ],
   "source": [
    "s1.dropna()"
   ]
  },
  {
   "cell_type": "code",
   "execution_count": 19,
   "metadata": {},
   "outputs": [
    {
     "data": {
      "text/plain": [
       "First Name\n",
       "Michael       35013.0\n",
       "Kevin         35061.0\n",
       "Steven        35095.0\n",
       "Matthew       35203.0\n",
       "Cynthia       35381.0\n",
       "               ...   \n",
       "Kathy        149563.0\n",
       "NaN          149654.0\n",
       "Cynthia      149684.0\n",
       "Rose         149903.0\n",
       "Katherine    149908.0\n",
       "Name: Salary, Length: 999, dtype: float64"
      ]
     },
     "execution_count": 19,
     "metadata": {},
     "output_type": "execute_result"
    }
   ],
   "source": [
    "s1.dropna().sort_values()"
   ]
  },
  {
   "cell_type": "code",
   "execution_count": 20,
   "metadata": {},
   "outputs": [
    {
     "data": {
      "text/plain": [
       "First Name\n",
       "Aaron     61602.0\n",
       "Aaron     58755.0\n",
       "Aaron     52119.0\n",
       "Aaron     63126.0\n",
       "Adam      95327.0\n",
       "           ...   \n",
       "NaN       95866.0\n",
       "NaN      133472.0\n",
       "NaN      107351.0\n",
       "NaN      143638.0\n",
       "NaN           NaN\n",
       "Name: Salary, Length: 1001, dtype: float64"
      ]
     },
     "execution_count": 20,
     "metadata": {},
     "output_type": "execute_result"
    }
   ],
   "source": [
    "s1.sort_index()"
   ]
  },
  {
   "cell_type": "code",
   "execution_count": 23,
   "metadata": {},
   "outputs": [
    {
     "data": {
      "text/plain": [
       "First Name\n",
       "Katherine    149908.0\n",
       "Rose         149903.0\n",
       "Cynthia      149684.0\n",
       "NaN          149654.0\n",
       "Kathy        149563.0\n",
       "Russell      149456.0\n",
       "Andrea       149105.0\n",
       "James        148985.0\n",
       "Clarence     148941.0\n",
       "Maria        148857.0\n",
       "Name: Salary, dtype: float64"
      ]
     },
     "execution_count": 23,
     "metadata": {},
     "output_type": "execute_result"
    }
   ],
   "source": [
    "s1.nlargest(10)"
   ]
  },
  {
   "cell_type": "code",
   "execution_count": 24,
   "metadata": {},
   "outputs": [
    {
     "data": {
      "text/plain": [
       "First Name\n",
       "Michael      35013.0\n",
       "Kevin        35061.0\n",
       "Steven       35095.0\n",
       "Matthew      35203.0\n",
       "Cynthia      35381.0\n",
       "Christina    35477.0\n",
       "Kathleen     35575.0\n",
       "Terry        35633.0\n",
       "Bruce        35802.0\n",
       "Frances      35884.0\n",
       "Name: Salary, dtype: float64"
      ]
     },
     "execution_count": 24,
     "metadata": {},
     "output_type": "execute_result"
    }
   ],
   "source": [
    "s1.nsmallest(10)"
   ]
  },
  {
   "cell_type": "code",
   "execution_count": 25,
   "metadata": {},
   "outputs": [
    {
     "data": {
      "text/plain": [
       "count       10.000000\n",
       "mean     35412.400000\n",
       "std        313.058461\n",
       "min      35013.000000\n",
       "25%      35122.000000\n",
       "50%      35429.000000\n",
       "75%      35618.500000\n",
       "max      35884.000000\n",
       "Name: Salary, dtype: float64"
      ]
     },
     "execution_count": 25,
     "metadata": {},
     "output_type": "execute_result"
    }
   ],
   "source": [
    "s1.nsmallest(10).describe()"
   ]
  },
  {
   "cell_type": "code",
   "execution_count": 26,
   "metadata": {},
   "outputs": [
    {
     "data": {
      "text/plain": [
       "count        10.000000\n",
       "mean     149405.600000\n",
       "std         401.444115\n",
       "min      148857.000000\n",
       "25%      149015.000000\n",
       "50%      149509.500000\n",
       "75%      149676.500000\n",
       "max      149908.000000\n",
       "Name: Salary, dtype: float64"
      ]
     },
     "execution_count": 26,
     "metadata": {},
     "output_type": "execute_result"
    }
   ],
   "source": [
    "s1.nlargest(10).describe()"
   ]
  },
  {
   "cell_type": "code",
   "execution_count": 27,
   "metadata": {},
   "outputs": [],
   "source": [
    "s2 = s1"
   ]
  },
  {
   "cell_type": "code",
   "execution_count": 28,
   "metadata": {},
   "outputs": [],
   "source": [
    "s2.dropna(inplace=True)"
   ]
  },
  {
   "cell_type": "code",
   "execution_count": 29,
   "metadata": {},
   "outputs": [
    {
     "data": {
      "text/plain": [
       "First Name\n",
       "Thomas      61933.0\n",
       "Maria      130590.0\n",
       "Jerry      138705.0\n",
       "Larry      101004.0\n",
       "Dennis     115163.0\n",
       "             ...   \n",
       "Henry      132483.0\n",
       "Phillip     42392.0\n",
       "Russell     96914.0\n",
       "Larry       60500.0\n",
       "Albert     129949.0\n",
       "Name: Salary, Length: 999, dtype: float64"
      ]
     },
     "execution_count": 29,
     "metadata": {},
     "output_type": "execute_result"
    }
   ],
   "source": [
    "s2"
   ]
  },
  {
   "cell_type": "code",
   "execution_count": 30,
   "metadata": {},
   "outputs": [],
   "source": [
    "s1 = s1.dropna()"
   ]
  },
  {
   "cell_type": "code",
   "execution_count": 31,
   "metadata": {},
   "outputs": [
    {
     "data": {
      "text/plain": [
       "First Name\n",
       "Thomas      61933.0\n",
       "Maria      130590.0\n",
       "Jerry      138705.0\n",
       "Larry      101004.0\n",
       "Dennis     115163.0\n",
       "             ...   \n",
       "Henry      132483.0\n",
       "Phillip     42392.0\n",
       "Russell     96914.0\n",
       "Larry       60500.0\n",
       "Albert     129949.0\n",
       "Name: Salary, Length: 999, dtype: float64"
      ]
     },
     "execution_count": 31,
     "metadata": {},
     "output_type": "execute_result"
    }
   ],
   "source": [
    "s1"
   ]
  },
  {
   "cell_type": "code",
   "execution_count": 32,
   "metadata": {},
   "outputs": [],
   "source": [
    "s1.sort_values(inplace=True)"
   ]
  },
  {
   "cell_type": "code",
   "execution_count": 33,
   "metadata": {},
   "outputs": [
    {
     "data": {
      "text/plain": [
       "First Name\n",
       "Michael       35013.0\n",
       "Kevin         35061.0\n",
       "Steven        35095.0\n",
       "Matthew       35203.0\n",
       "Cynthia       35381.0\n",
       "               ...   \n",
       "Kathy        149563.0\n",
       "NaN          149654.0\n",
       "Cynthia      149684.0\n",
       "Rose         149903.0\n",
       "Katherine    149908.0\n",
       "Name: Salary, Length: 999, dtype: float64"
      ]
     },
     "execution_count": 33,
     "metadata": {},
     "output_type": "execute_result"
    }
   ],
   "source": [
    "s1"
   ]
  },
  {
   "cell_type": "code",
   "execution_count": 37,
   "metadata": {},
   "outputs": [
    {
     "data": {
      "text/html": [
       "<div>\n",
       "<style scoped>\n",
       "    .dataframe tbody tr th:only-of-type {\n",
       "        vertical-align: middle;\n",
       "    }\n",
       "\n",
       "    .dataframe tbody tr th {\n",
       "        vertical-align: top;\n",
       "    }\n",
       "\n",
       "    .dataframe thead th {\n",
       "        text-align: right;\n",
       "    }\n",
       "</style>\n",
       "<table border=\"1\" class=\"dataframe\">\n",
       "  <thead>\n",
       "    <tr style=\"text-align: right;\">\n",
       "      <th></th>\n",
       "      <th>rating</th>\n",
       "      <th>genre</th>\n",
       "      <th>year</th>\n",
       "      <th>release_date</th>\n",
       "      <th>release_country</th>\n",
       "      <th>score</th>\n",
       "      <th>votes</th>\n",
       "      <th>director</th>\n",
       "      <th>writer</th>\n",
       "      <th>star</th>\n",
       "      <th>country</th>\n",
       "      <th>budget</th>\n",
       "      <th>gross</th>\n",
       "      <th>company</th>\n",
       "      <th>runtime</th>\n",
       "    </tr>\n",
       "    <tr>\n",
       "      <th>name</th>\n",
       "      <th></th>\n",
       "      <th></th>\n",
       "      <th></th>\n",
       "      <th></th>\n",
       "      <th></th>\n",
       "      <th></th>\n",
       "      <th></th>\n",
       "      <th></th>\n",
       "      <th></th>\n",
       "      <th></th>\n",
       "      <th></th>\n",
       "      <th></th>\n",
       "      <th></th>\n",
       "      <th></th>\n",
       "      <th></th>\n",
       "    </tr>\n",
       "  </thead>\n",
       "  <tbody>\n",
       "    <tr>\n",
       "      <th>The Shining</th>\n",
       "      <td>R</td>\n",
       "      <td>Drama</td>\n",
       "      <td>1980</td>\n",
       "      <td>June 13, 1980</td>\n",
       "      <td>United States</td>\n",
       "      <td>8.4</td>\n",
       "      <td>927000.0</td>\n",
       "      <td>Stanley Kubrick</td>\n",
       "      <td>Stephen King</td>\n",
       "      <td>Jack Nicholson</td>\n",
       "      <td>United Kingdom</td>\n",
       "      <td>19000000.0</td>\n",
       "      <td>46998772.0</td>\n",
       "      <td>Warner Bros.</td>\n",
       "      <td>146.0</td>\n",
       "    </tr>\n",
       "    <tr>\n",
       "      <th>The Blue Lagoon</th>\n",
       "      <td>R</td>\n",
       "      <td>Adventure</td>\n",
       "      <td>1980</td>\n",
       "      <td>July 2, 1980</td>\n",
       "      <td>United States</td>\n",
       "      <td>5.8</td>\n",
       "      <td>65000.0</td>\n",
       "      <td>Randal Kleiser</td>\n",
       "      <td>Henry De Vere Stacpoole</td>\n",
       "      <td>Brooke Shields</td>\n",
       "      <td>United States</td>\n",
       "      <td>4500000.0</td>\n",
       "      <td>58853106.0</td>\n",
       "      <td>Columbia Pictures</td>\n",
       "      <td>104.0</td>\n",
       "    </tr>\n",
       "    <tr>\n",
       "      <th>Star Wars: Episode V - The Empire Strikes Back</th>\n",
       "      <td>PG</td>\n",
       "      <td>Action</td>\n",
       "      <td>1980</td>\n",
       "      <td>June 20, 1980</td>\n",
       "      <td>United States</td>\n",
       "      <td>8.7</td>\n",
       "      <td>1200000.0</td>\n",
       "      <td>Irvin Kershner</td>\n",
       "      <td>Leigh Brackett</td>\n",
       "      <td>Mark Hamill</td>\n",
       "      <td>United States</td>\n",
       "      <td>18000000.0</td>\n",
       "      <td>538375067.0</td>\n",
       "      <td>Lucasfilm</td>\n",
       "      <td>124.0</td>\n",
       "    </tr>\n",
       "    <tr>\n",
       "      <th>Airplane!</th>\n",
       "      <td>PG</td>\n",
       "      <td>Comedy</td>\n",
       "      <td>1980</td>\n",
       "      <td>July 2, 1980</td>\n",
       "      <td>United States</td>\n",
       "      <td>7.7</td>\n",
       "      <td>221000.0</td>\n",
       "      <td>Jim Abrahams</td>\n",
       "      <td>Jim Abrahams</td>\n",
       "      <td>Robert Hays</td>\n",
       "      <td>United States</td>\n",
       "      <td>3500000.0</td>\n",
       "      <td>83453539.0</td>\n",
       "      <td>Paramount Pictures</td>\n",
       "      <td>88.0</td>\n",
       "    </tr>\n",
       "    <tr>\n",
       "      <th>Caddyshack</th>\n",
       "      <td>R</td>\n",
       "      <td>Comedy</td>\n",
       "      <td>1980</td>\n",
       "      <td>July 25, 1980</td>\n",
       "      <td>United States</td>\n",
       "      <td>7.3</td>\n",
       "      <td>108000.0</td>\n",
       "      <td>Harold Ramis</td>\n",
       "      <td>Brian Doyle-Murray</td>\n",
       "      <td>Chevy Chase</td>\n",
       "      <td>United States</td>\n",
       "      <td>6000000.0</td>\n",
       "      <td>39846344.0</td>\n",
       "      <td>Orion Pictures</td>\n",
       "      <td>98.0</td>\n",
       "    </tr>\n",
       "    <tr>\n",
       "      <th>...</th>\n",
       "      <td>...</td>\n",
       "      <td>...</td>\n",
       "      <td>...</td>\n",
       "      <td>...</td>\n",
       "      <td>...</td>\n",
       "      <td>...</td>\n",
       "      <td>...</td>\n",
       "      <td>...</td>\n",
       "      <td>...</td>\n",
       "      <td>...</td>\n",
       "      <td>...</td>\n",
       "      <td>...</td>\n",
       "      <td>...</td>\n",
       "      <td>...</td>\n",
       "      <td>...</td>\n",
       "    </tr>\n",
       "    <tr>\n",
       "      <th>More to Life</th>\n",
       "      <td>NaN</td>\n",
       "      <td>Drama</td>\n",
       "      <td>2020</td>\n",
       "      <td>October 23, 2020</td>\n",
       "      <td>United States</td>\n",
       "      <td>3.1</td>\n",
       "      <td>18.0</td>\n",
       "      <td>Joseph Ebanks</td>\n",
       "      <td>Joseph Ebanks</td>\n",
       "      <td>Shannon Bond</td>\n",
       "      <td>United States</td>\n",
       "      <td>7000.0</td>\n",
       "      <td>NaN</td>\n",
       "      <td>NaN</td>\n",
       "      <td>90.0</td>\n",
       "    </tr>\n",
       "    <tr>\n",
       "      <th>Dream Round</th>\n",
       "      <td>NaN</td>\n",
       "      <td>Comedy</td>\n",
       "      <td>2020</td>\n",
       "      <td>February 7, 2020</td>\n",
       "      <td>United States</td>\n",
       "      <td>4.7</td>\n",
       "      <td>36.0</td>\n",
       "      <td>Dusty Dukatz</td>\n",
       "      <td>Lisa Huston</td>\n",
       "      <td>Michael Saquella</td>\n",
       "      <td>United States</td>\n",
       "      <td>NaN</td>\n",
       "      <td>NaN</td>\n",
       "      <td>Cactus Blue Entertainment</td>\n",
       "      <td>90.0</td>\n",
       "    </tr>\n",
       "    <tr>\n",
       "      <th>Saving Mbango</th>\n",
       "      <td>NaN</td>\n",
       "      <td>Drama</td>\n",
       "      <td>2020</td>\n",
       "      <td>April 27, 2020</td>\n",
       "      <td>Cameroon</td>\n",
       "      <td>5.7</td>\n",
       "      <td>29.0</td>\n",
       "      <td>Nkanya Nkwai</td>\n",
       "      <td>Lynno Lovert</td>\n",
       "      <td>Onyama Laura</td>\n",
       "      <td>United States</td>\n",
       "      <td>58750.0</td>\n",
       "      <td>NaN</td>\n",
       "      <td>Embi Productions</td>\n",
       "      <td>NaN</td>\n",
       "    </tr>\n",
       "    <tr>\n",
       "      <th>It's Just Us</th>\n",
       "      <td>NaN</td>\n",
       "      <td>Drama</td>\n",
       "      <td>2020</td>\n",
       "      <td>October 1, 2020</td>\n",
       "      <td>United States</td>\n",
       "      <td>NaN</td>\n",
       "      <td>NaN</td>\n",
       "      <td>James Randall</td>\n",
       "      <td>James Randall</td>\n",
       "      <td>Christina Roz</td>\n",
       "      <td>United States</td>\n",
       "      <td>15000.0</td>\n",
       "      <td>NaN</td>\n",
       "      <td>NaN</td>\n",
       "      <td>120.0</td>\n",
       "    </tr>\n",
       "    <tr>\n",
       "      <th>Tee em el</th>\n",
       "      <td>NaN</td>\n",
       "      <td>Horror</td>\n",
       "      <td>2020</td>\n",
       "      <td>August 19, 2020</td>\n",
       "      <td>United States</td>\n",
       "      <td>5.7</td>\n",
       "      <td>7.0</td>\n",
       "      <td>Pereko Mosia</td>\n",
       "      <td>Pereko Mosia</td>\n",
       "      <td>Siyabonga Mabaso</td>\n",
       "      <td>South Africa</td>\n",
       "      <td>NaN</td>\n",
       "      <td>NaN</td>\n",
       "      <td>PK 65 Films</td>\n",
       "      <td>102.0</td>\n",
       "    </tr>\n",
       "  </tbody>\n",
       "</table>\n",
       "<p>7666 rows × 15 columns</p>\n",
       "</div>"
      ],
      "text/plain": [
       "                                               rating      genre  year  \\\n",
       "name                                                                     \n",
       "The Shining                                         R      Drama  1980   \n",
       "The Blue Lagoon                                     R  Adventure  1980   \n",
       "Star Wars: Episode V - The Empire Strikes Back     PG     Action  1980   \n",
       "Airplane!                                          PG     Comedy  1980   \n",
       "Caddyshack                                          R     Comedy  1980   \n",
       "...                                               ...        ...   ...   \n",
       "More to Life                                      NaN      Drama  2020   \n",
       "Dream Round                                       NaN     Comedy  2020   \n",
       "Saving Mbango                                     NaN      Drama  2020   \n",
       "It's Just Us                                      NaN      Drama  2020   \n",
       "Tee em el                                         NaN     Horror  2020   \n",
       "\n",
       "                                                    release_date  \\\n",
       "name                                                               \n",
       "The Shining                                        June 13, 1980   \n",
       "The Blue Lagoon                                     July 2, 1980   \n",
       "Star Wars: Episode V - The Empire Strikes Back     June 20, 1980   \n",
       "Airplane!                                           July 2, 1980   \n",
       "Caddyshack                                         July 25, 1980   \n",
       "...                                                          ...   \n",
       "More to Life                                    October 23, 2020   \n",
       "Dream Round                                     February 7, 2020   \n",
       "Saving Mbango                                     April 27, 2020   \n",
       "It's Just Us                                     October 1, 2020   \n",
       "Tee em el                                        August 19, 2020   \n",
       "\n",
       "                                               release_country  score  \\\n",
       "name                                                                    \n",
       "The Shining                                      United States    8.4   \n",
       "The Blue Lagoon                                  United States    5.8   \n",
       "Star Wars: Episode V - The Empire Strikes Back   United States    8.7   \n",
       "Airplane!                                        United States    7.7   \n",
       "Caddyshack                                       United States    7.3   \n",
       "...                                                        ...    ...   \n",
       "More to Life                                     United States    3.1   \n",
       "Dream Round                                      United States    4.7   \n",
       "Saving Mbango                                         Cameroon    5.7   \n",
       "It's Just Us                                     United States    NaN   \n",
       "Tee em el                                        United States    5.7   \n",
       "\n",
       "                                                    votes         director  \\\n",
       "name                                                                         \n",
       "The Shining                                      927000.0  Stanley Kubrick   \n",
       "The Blue Lagoon                                   65000.0   Randal Kleiser   \n",
       "Star Wars: Episode V - The Empire Strikes Back  1200000.0   Irvin Kershner   \n",
       "Airplane!                                        221000.0     Jim Abrahams   \n",
       "Caddyshack                                       108000.0     Harold Ramis   \n",
       "...                                                   ...              ...   \n",
       "More to Life                                         18.0    Joseph Ebanks   \n",
       "Dream Round                                          36.0     Dusty Dukatz   \n",
       "Saving Mbango                                        29.0     Nkanya Nkwai   \n",
       "It's Just Us                                          NaN    James Randall   \n",
       "Tee em el                                             7.0     Pereko Mosia   \n",
       "\n",
       "                                                                 writer  \\\n",
       "name                                                                      \n",
       "The Shining                                                Stephen King   \n",
       "The Blue Lagoon                                 Henry De Vere Stacpoole   \n",
       "Star Wars: Episode V - The Empire Strikes Back           Leigh Brackett   \n",
       "Airplane!                                                  Jim Abrahams   \n",
       "Caddyshack                                           Brian Doyle-Murray   \n",
       "...                                                                 ...   \n",
       "More to Life                                              Joseph Ebanks   \n",
       "Dream Round                                                 Lisa Huston   \n",
       "Saving Mbango                                              Lynno Lovert   \n",
       "It's Just Us                                              James Randall   \n",
       "Tee em el                                                  Pereko Mosia   \n",
       "\n",
       "                                                            star  \\\n",
       "name                                                               \n",
       "The Shining                                       Jack Nicholson   \n",
       "The Blue Lagoon                                   Brooke Shields   \n",
       "Star Wars: Episode V - The Empire Strikes Back       Mark Hamill   \n",
       "Airplane!                                            Robert Hays   \n",
       "Caddyshack                                           Chevy Chase   \n",
       "...                                                          ...   \n",
       "More to Life                                        Shannon Bond   \n",
       "Dream Round                                     Michael Saquella   \n",
       "Saving Mbango                                       Onyama Laura   \n",
       "It's Just Us                                       Christina Roz   \n",
       "Tee em el                                       Siyabonga Mabaso   \n",
       "\n",
       "                                                       country      budget  \\\n",
       "name                                                                         \n",
       "The Shining                                     United Kingdom  19000000.0   \n",
       "The Blue Lagoon                                  United States   4500000.0   \n",
       "Star Wars: Episode V - The Empire Strikes Back   United States  18000000.0   \n",
       "Airplane!                                        United States   3500000.0   \n",
       "Caddyshack                                       United States   6000000.0   \n",
       "...                                                        ...         ...   \n",
       "More to Life                                     United States      7000.0   \n",
       "Dream Round                                      United States         NaN   \n",
       "Saving Mbango                                    United States     58750.0   \n",
       "It's Just Us                                     United States     15000.0   \n",
       "Tee em el                                         South Africa         NaN   \n",
       "\n",
       "                                                      gross  \\\n",
       "name                                                          \n",
       "The Shining                                      46998772.0   \n",
       "The Blue Lagoon                                  58853106.0   \n",
       "Star Wars: Episode V - The Empire Strikes Back  538375067.0   \n",
       "Airplane!                                        83453539.0   \n",
       "Caddyshack                                       39846344.0   \n",
       "...                                                     ...   \n",
       "More to Life                                            NaN   \n",
       "Dream Round                                             NaN   \n",
       "Saving Mbango                                           NaN   \n",
       "It's Just Us                                            NaN   \n",
       "Tee em el                                               NaN   \n",
       "\n",
       "                                                                  company  \\\n",
       "name                                                                        \n",
       "The Shining                                                  Warner Bros.   \n",
       "The Blue Lagoon                                         Columbia Pictures   \n",
       "Star Wars: Episode V - The Empire Strikes Back                  Lucasfilm   \n",
       "Airplane!                                              Paramount Pictures   \n",
       "Caddyshack                                                 Orion Pictures   \n",
       "...                                                                   ...   \n",
       "More to Life                                                          NaN   \n",
       "Dream Round                                     Cactus Blue Entertainment   \n",
       "Saving Mbango                                            Embi Productions   \n",
       "It's Just Us                                                          NaN   \n",
       "Tee em el                                                     PK 65 Films   \n",
       "\n",
       "                                                runtime  \n",
       "name                                                     \n",
       "The Shining                                       146.0  \n",
       "The Blue Lagoon                                   104.0  \n",
       "Star Wars: Episode V - The Empire Strikes Back    124.0  \n",
       "Airplane!                                          88.0  \n",
       "Caddyshack                                         98.0  \n",
       "...                                                 ...  \n",
       "More to Life                                       90.0  \n",
       "Dream Round                                        90.0  \n",
       "Saving Mbango                                       NaN  \n",
       "It's Just Us                                      120.0  \n",
       "Tee em el                                         102.0  \n",
       "\n",
       "[7666 rows x 15 columns]"
      ]
     },
     "execution_count": 37,
     "metadata": {},
     "output_type": "execute_result"
    }
   ],
   "source": [
    "df = pd.read_csv('../S05-S08/Data/movies.csv',index_col='name')\n",
    "df"
   ]
  },
  {
   "cell_type": "code",
   "execution_count": 38,
   "metadata": {},
   "outputs": [
    {
     "data": {
      "text/plain": [
       "name\n",
       "The Shining                                         R\n",
       "The Blue Lagoon                                     R\n",
       "Star Wars: Episode V - The Empire Strikes Back     PG\n",
       "Airplane!                                          PG\n",
       "Caddyshack                                          R\n",
       "                                                 ... \n",
       "More to Life                                      NaN\n",
       "Dream Round                                       NaN\n",
       "Saving Mbango                                     NaN\n",
       "It's Just Us                                      NaN\n",
       "Tee em el                                         NaN\n",
       "Name: rating, Length: 7666, dtype: object"
      ]
     },
     "execution_count": 38,
     "metadata": {},
     "output_type": "execute_result"
    }
   ],
   "source": [
    "rating = df['rating']\n",
    "rating"
   ]
  },
  {
   "cell_type": "code",
   "execution_count": 39,
   "metadata": {},
   "outputs": [
    {
     "data": {
      "text/plain": [
       "R            3695\n",
       "PG-13        2112\n",
       "PG           1252\n",
       "Not Rated     283\n",
       "G             153\n",
       "Unrated        52\n",
       "NC-17          23\n",
       "TV-MA           9\n",
       "TV-PG           5\n",
       "X               3\n",
       "Approved        1\n",
       "TV-14           1\n",
       "Name: rating, dtype: int64"
      ]
     },
     "execution_count": 39,
     "metadata": {},
     "output_type": "execute_result"
    }
   ],
   "source": [
    "rating.value_counts()"
   ]
  },
  {
   "cell_type": "code",
   "execution_count": 40,
   "metadata": {},
   "outputs": [
    {
     "data": {
      "text/plain": [
       "Approved        1\n",
       "G             153\n",
       "NC-17          23\n",
       "Not Rated     283\n",
       "PG           1252\n",
       "PG-13        2112\n",
       "R            3695\n",
       "TV-14           1\n",
       "TV-MA           9\n",
       "TV-PG           5\n",
       "Unrated        52\n",
       "X               3\n",
       "Name: rating, dtype: int64"
      ]
     },
     "execution_count": 40,
     "metadata": {},
     "output_type": "execute_result"
    }
   ],
   "source": [
    "rating.value_counts().sort_index()"
   ]
  },
  {
   "cell_type": "code",
   "execution_count": 42,
   "metadata": {},
   "outputs": [
    {
     "data": {
      "text/plain": [
       "Approved        1\n",
       "TV-14           1\n",
       "X               3\n",
       "TV-PG           5\n",
       "TV-MA           9\n",
       "NC-17          23\n",
       "Unrated        52\n",
       "G             153\n",
       "Not Rated     283\n",
       "PG           1252\n",
       "PG-13        2112\n",
       "R            3695\n",
       "Name: rating, dtype: int64"
      ]
     },
     "execution_count": 42,
     "metadata": {},
     "output_type": "execute_result"
    }
   ],
   "source": [
    "rating.value_counts(ascending=True)"
   ]
  },
  {
   "cell_type": "code",
   "execution_count": 47,
   "metadata": {},
   "outputs": [
    {
     "data": {
      "text/plain": [
       "R            48.7\n",
       "PG-13        27.8\n",
       "PG           16.5\n",
       "Not Rated     3.7\n",
       "G             2.0\n",
       "Unrated       0.7\n",
       "NC-17         0.3\n",
       "TV-MA         0.1\n",
       "TV-PG         0.1\n",
       "X             0.0\n",
       "Approved      0.0\n",
       "TV-14         0.0\n",
       "Name: rating, dtype: float64"
      ]
     },
     "execution_count": 47,
     "metadata": {},
     "output_type": "execute_result"
    }
   ],
   "source": [
    "(rating.value_counts(normalize=True)*100).round(1)"
   ]
  },
  {
   "cell_type": "code",
   "execution_count": 48,
   "metadata": {},
   "outputs": [
    {
     "data": {
      "text/plain": [
       "name\n",
       "The Shining                                       8.4\n",
       "The Blue Lagoon                                   5.8\n",
       "Star Wars: Episode V - The Empire Strikes Back    8.7\n",
       "Airplane!                                         7.7\n",
       "Caddyshack                                        7.3\n",
       "                                                 ... \n",
       "More to Life                                      3.1\n",
       "Dream Round                                       4.7\n",
       "Saving Mbango                                     5.7\n",
       "It's Just Us                                      NaN\n",
       "Tee em el                                         5.7\n",
       "Name: score, Length: 7666, dtype: float64"
      ]
     },
     "execution_count": 48,
     "metadata": {},
     "output_type": "execute_result"
    }
   ],
   "source": [
    "score = df.score\n",
    "score"
   ]
  },
  {
   "cell_type": "code",
   "execution_count": 49,
   "metadata": {},
   "outputs": [
    {
     "data": {
      "text/plain": [
       "6.6    359\n",
       "6.4    351\n",
       "6.2    346\n",
       "6.7    332\n",
       "6.5    331\n",
       "      ... \n",
       "2.8      2\n",
       "9.3      1\n",
       "2.6      1\n",
       "2.3      1\n",
       "9.0      1\n",
       "Name: score, Length: 72, dtype: int64"
      ]
     },
     "execution_count": 49,
     "metadata": {},
     "output_type": "execute_result"
    }
   ],
   "source": [
    "score.value_counts()"
   ]
  },
  {
   "cell_type": "code",
   "execution_count": 52,
   "metadata": {},
   "outputs": [
    {
     "data": {
      "text/plain": [
       "(1.8920000000000001, 2.825]      24\n",
       "(2.825, 3.75]                    73\n",
       "(3.75, 4.675]                   255\n",
       "(4.675, 5.6]                   1205\n",
       "(5.6, 6.525]                   2576\n",
       "(6.525, 7.45]                  2550\n",
       "(7.45, 8.375]                   923\n",
       "(8.375, 9.3]                     57\n",
       "Name: score, dtype: int64"
      ]
     },
     "execution_count": 52,
     "metadata": {},
     "output_type": "execute_result"
    }
   ],
   "source": [
    "score.value_counts(bins=8).sort_index()"
   ]
  },
  {
   "cell_type": "code",
   "execution_count": 54,
   "metadata": {},
   "outputs": [
    {
     "data": {
      "text/plain": [
       "(0.999, 3.0]      34\n",
       "(3.0, 5.0]       601\n",
       "(5.0, 7.0]      5052\n",
       "(7.0, 7.5]      1184\n",
       "(7.5, 8.0]       598\n",
       "(8.0, 8.5]       172\n",
       "(8.5, 9.0]        21\n",
       "(9.0, 9.5]         1\n",
       "(9.5, 10.0]        0\n",
       "Name: score, dtype: int64"
      ]
     },
     "execution_count": 54,
     "metadata": {},
     "output_type": "execute_result"
    }
   ],
   "source": [
    "score.value_counts(bins=[1,3,5,7,7.5,8,8.5,9,9.5,10]).sort_index()"
   ]
  },
  {
   "cell_type": "code",
   "execution_count": 55,
   "metadata": {},
   "outputs": [
    {
     "data": {
      "text/plain": [
       "(0.999, 3.0]      34\n",
       "(3.0, 5.0]       601\n",
       "(5.0, 7.0]      5052\n",
       "(7.0, 7.5]      1184\n",
       "(7.5, 8.0]       598\n",
       "(8.0, 8.5]       172\n",
       "(8.5, 9.0]        21\n",
       "(9.0, 9.5]         1\n",
       "(9.5, 10.0]        0\n",
       "Name: score, dtype: int64"
      ]
     },
     "execution_count": 55,
     "metadata": {},
     "output_type": "execute_result"
    }
   ],
   "source": [
    "score.value_counts(bins=[1,3,5,7,7.5,8,8.5,9,9.5,10] , sort=False)"
   ]
  },
  {
   "cell_type": "code",
   "execution_count": 57,
   "metadata": {},
   "outputs": [
    {
     "data": {
      "text/plain": [
       "8.9    3\n",
       "1.9    3\n",
       "NaN    3\n",
       "2.1    2\n",
       "2.4    2\n",
       "2.8    2\n",
       "9.3    1\n",
       "2.6    1\n",
       "2.3    1\n",
       "9.0    1\n",
       "Name: score, dtype: int64"
      ]
     },
     "execution_count": 57,
     "metadata": {},
     "output_type": "execute_result"
    }
   ],
   "source": [
    "score.value_counts(dropna=False).tail(10)"
   ]
  },
  {
   "cell_type": "code",
   "execution_count": 58,
   "metadata": {},
   "outputs": [],
   "source": [
    "def verbal_score(s):\n",
    "    if s >= 7.5:\n",
    "        return 'High'\n",
    "    elif s>= 6.5:\n",
    "        return 'Medium'\n",
    "    else:\n",
    "        return 'Low'"
   ]
  },
  {
   "cell_type": "code",
   "execution_count": 60,
   "metadata": {},
   "outputs": [
    {
     "name": "stdout",
     "output_type": "stream",
     "text": [
      "number is 1 and  Low\n",
      "number is 2 and  Low\n",
      "number is 3 and  Low\n",
      "number is 4 and  Low\n",
      "number is 5 and  Low\n",
      "number is 6 and  Low\n",
      "number is 7 and  Medium\n",
      "number is 8 and  High\n",
      "number is 9 and  High\n"
     ]
    }
   ],
   "source": [
    "for i in range(1,10):\n",
    "    print(f'number is {i} and ' , verbal_score(i))"
   ]
  },
  {
   "cell_type": "code",
   "execution_count": 61,
   "metadata": {},
   "outputs": [
    {
     "data": {
      "text/plain": [
       "name\n",
       "The Shining                                         High\n",
       "The Blue Lagoon                                      Low\n",
       "Star Wars: Episode V - The Empire Strikes Back      High\n",
       "Airplane!                                           High\n",
       "Caddyshack                                        Medium\n",
       "                                                   ...  \n",
       "More to Life                                         Low\n",
       "Dream Round                                          Low\n",
       "Saving Mbango                                        Low\n",
       "It's Just Us                                         Low\n",
       "Tee em el                                            Low\n",
       "Name: score, Length: 7666, dtype: object"
      ]
     },
     "execution_count": 61,
     "metadata": {},
     "output_type": "execute_result"
    }
   ],
   "source": [
    "score.apply(verbal_score)"
   ]
  },
  {
   "cell_type": "code",
   "execution_count": 62,
   "metadata": {},
   "outputs": [
    {
     "data": {
      "text/plain": [
       "name\n",
       "The Shining                                         High\n",
       "The Blue Lagoon                                      Low\n",
       "Star Wars: Episode V - The Empire Strikes Back      High\n",
       "Airplane!                                           High\n",
       "Caddyshack                                        Medium\n",
       "                                                   ...  \n",
       "More to Life                                         Low\n",
       "Dream Round                                          Low\n",
       "Saving Mbango                                        Low\n",
       "It's Just Us                                         Low\n",
       "Tee em el                                            Low\n",
       "Name: score, Length: 7666, dtype: object"
      ]
     },
     "execution_count": 62,
     "metadata": {},
     "output_type": "execute_result"
    }
   ],
   "source": [
    "score.map(verbal_score)"
   ]
  },
  {
   "cell_type": "code",
   "execution_count": 63,
   "metadata": {},
   "outputs": [
    {
     "data": {
      "text/plain": [
       "Low       3805\n",
       "Medium    2881\n",
       "High       980\n",
       "Name: score, dtype: int64"
      ]
     },
     "execution_count": 63,
     "metadata": {},
     "output_type": "execute_result"
    }
   ],
   "source": [
    "score.apply(verbal_score).value_counts()"
   ]
  },
  {
   "cell_type": "code",
   "execution_count": 65,
   "metadata": {},
   "outputs": [
    {
     "data": {
      "text/plain": [
       "Low       50.0\n",
       "Medium    38.0\n",
       "High      13.0\n",
       "Name: score, dtype: float64"
      ]
     },
     "execution_count": 65,
     "metadata": {},
     "output_type": "execute_result"
    }
   ],
   "source": [
    "score.apply(verbal_score).value_counts(normalize=True).mul(100).round()"
   ]
  },
  {
   "cell_type": "code",
   "execution_count": 66,
   "metadata": {},
   "outputs": [
    {
     "data": {
      "text/plain": [
       "name\n",
       "The Shining                                       8\n",
       "The Blue Lagoon                                   6\n",
       "Star Wars: Episode V - The Empire Strikes Back    9\n",
       "Airplane!                                         8\n",
       "Caddyshack                                        7\n",
       "                                                 ..\n",
       "Aloha Surf Hotel                                  7\n",
       "More to Life                                      3\n",
       "Dream Round                                       5\n",
       "Saving Mbango                                     6\n",
       "Tee em el                                         6\n",
       "Name: score, Length: 7663, dtype: int64"
      ]
     },
     "execution_count": 66,
     "metadata": {},
     "output_type": "execute_result"
    }
   ],
   "source": [
    "score.dropna().apply(round)"
   ]
  },
  {
   "cell_type": "code",
   "execution_count": null,
   "metadata": {},
   "outputs": [],
   "source": []
  }
 ],
 "metadata": {
  "kernelspec": {
   "display_name": "Python 3.8.5 ('base')",
   "language": "python",
   "name": "python3"
  },
  "language_info": {
   "codemirror_mode": {
    "name": "ipython",
    "version": 3
   },
   "file_extension": ".py",
   "mimetype": "text/x-python",
   "name": "python",
   "nbconvert_exporter": "python",
   "pygments_lexer": "ipython3",
   "version": "3.8.5"
  },
  "orig_nbformat": 4,
  "vscode": {
   "interpreter": {
    "hash": "f4255f50b02773c0af0ebbfade993ade5cc03e54a7772ee7915f818a4d590be0"
   }
  }
 },
 "nbformat": 4,
 "nbformat_minor": 2
}
